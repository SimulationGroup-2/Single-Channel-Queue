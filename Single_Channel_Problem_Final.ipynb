{
  "nbformat": 4,
  "nbformat_minor": 0,
  "metadata": {
    "colab": {
      "name": "Single Channel Problem.ipynb",
      "provenance": [],
      "collapsed_sections": []
    },
    "kernelspec": {
      "name": "python3",
      "display_name": "Python 3"
    },
    "language_info": {
      "name": "python"
    },
    "accelerator": "TPU"
  },
  "cells": [
    {
      "cell_type": "code",
      "metadata": {
        "id": "bjNVYCuRrOgs"
      },
      "source": [
        "import math"
      ],
      "execution_count": 1,
      "outputs": []
    },
    {
      "cell_type": "code",
      "metadata": {
        "colab": {
          "base_uri": "https://localhost:8080/"
        },
        "id": "wzQ4nbn8nWUT",
        "outputId": "e6feb41b-ec9c-4001-ac73-dfa3045c4ad7"
      },
      "source": [
        "from scipy.stats import poisson\n",
        "Interarrival_Time = poisson.rvs(mu=5.6, size=19)\n",
        "\n",
        "print(Interarrival_Time)"
      ],
      "execution_count": 2,
      "outputs": [
        {
          "output_type": "stream",
          "text": [
            "[12  6  5  2  6  6  5  6  1  5  3  4  7  6  5 11  5  4 11]\n"
          ],
          "name": "stdout"
        }
      ]
    },
    {
      "cell_type": "code",
      "metadata": {
        "id": "_sb0u91JwwMQ"
      },
      "source": [
        "sum = 0\n",
        "arrival_Time = [0]\n",
        "for i in Interarrival_Time:\n",
        "  sum += i\n",
        "  arrival_Time.append(sum)"
      ],
      "execution_count": 3,
      "outputs": []
    },
    {
      "cell_type": "code",
      "metadata": {
        "colab": {
          "base_uri": "https://localhost:8080/"
        },
        "id": "PYTIVH1-xpEe",
        "outputId": "de8954ac-68f2-43fd-dbb6-d95cc4ee4b63"
      },
      "source": [
        "print(arrival_Time)"
      ],
      "execution_count": 4,
      "outputs": [
        {
          "output_type": "stream",
          "text": [
            "[0, 12, 18, 23, 25, 31, 37, 42, 48, 49, 54, 57, 61, 68, 74, 79, 90, 95, 99, 110]\n"
          ],
          "name": "stdout"
        }
      ]
    },
    {
      "cell_type": "code",
      "metadata": {
        "colab": {
          "base_uri": "https://localhost:8080/"
        },
        "id": "Jq-iYl8GtqDm",
        "outputId": "1c8a2d7c-b489-4e95-ff9e-ce2901a13550"
      },
      "source": [
        "from scipy.stats import expon\n",
        "Service_Time = expon.rvs(scale=1,loc=0,size=20)\n",
        "\n",
        "for i in Service_Time:\n",
        "  print(i)"
      ],
      "execution_count": 31,
      "outputs": [
        {
          "output_type": "stream",
          "text": [
            "0.25188798544376734\n",
            "1.2077550341684695\n",
            "0.43846726350240134\n",
            "0.4474802554580051\n",
            "0.6625550703148069\n",
            "0.08980089360914541\n",
            "3.589120097993667\n",
            "0.38882272817785607\n",
            "0.03844462255878703\n",
            "0.22649732382303725\n",
            "1.0545390957952885\n",
            "0.41536566903785327\n",
            "0.5435802209983378\n",
            "0.06984812556802814\n",
            "3.3987874760003884\n",
            "0.8457968823807799\n",
            "2.2861527210754313\n",
            "2.1339335757310436\n",
            "5.5873551602296\n",
            "0.02330961537500782\n"
          ],
          "name": "stdout"
        }
      ]
    },
    {
      "cell_type": "code",
      "metadata": {
        "id": "04I5OaVqTE-E"
      },
      "source": [
        "Time_service_begins = [0]\n",
        "Time_service_ends = []\n",
        "\n",
        "for x in range(0, 20):\n",
        "  if(x>0):\n",
        "    Time_service_begins.append(max(arrival_Time[x], Time_service_ends[x-1]))\n",
        "    \n",
        "  Time_service_ends.append(Service_Time[x] + Time_service_begins[x])"
      ],
      "execution_count": 6,
      "outputs": []
    },
    {
      "cell_type": "code",
      "metadata": {
        "colab": {
          "base_uri": "https://localhost:8080/"
        },
        "id": "X6tETEkfbttU",
        "outputId": "553f2b3a-b13b-4b61-a5b3-a6b7470ab453"
      },
      "source": [
        "print(\"Service Time begin\")\n",
        "for i in Time_service_begins:\n",
        "  print(i)\n",
        "\n",
        "print(\"----------------\")\n",
        "print(\"\\nTime service ends\\n\")\n",
        "\n",
        "for i in Time_service_ends:\n",
        "  print(i)"
      ],
      "execution_count": 7,
      "outputs": [
        {
          "output_type": "stream",
          "text": [
            "Service Time begin\n",
            "0\n",
            "12\n",
            "18\n",
            "23\n",
            "25\n",
            "31\n",
            "37\n",
            "42\n",
            "48\n",
            "49\n",
            "54\n",
            "57\n",
            "61\n",
            "68\n",
            "74\n",
            "79\n",
            "90\n",
            "95\n",
            "99\n",
            "110\n",
            "----------------\n",
            "\n",
            "Time service ends\n",
            "\n",
            "1.2750887018165233\n",
            "12.85830265294202\n",
            "20.717003247081447\n",
            "24.332303284169573\n",
            "26.312892940224806\n",
            "32.591718726219966\n",
            "39.00471274975071\n",
            "43.157985923253136\n",
            "48.70543416212298\n",
            "50.18892295378562\n",
            "55.00384889860181\n",
            "58.50776265449674\n",
            "62.2191921268956\n",
            "69.4508662718738\n",
            "75.25996873046951\n",
            "79.74993450456556\n",
            "90.80762555586146\n",
            "96.13522835395973\n",
            "100.23136948687947\n",
            "110.74517844435002\n"
          ],
          "name": "stdout"
        }
      ]
    },
    {
      "cell_type": "code",
      "metadata": {
        "id": "V0T095NNgRf1"
      },
      "source": [
        "waiting_time = [0]\n",
        "\n",
        "for i in range(1,20):\n",
        "  if(arrival_Time[i] < Time_service_ends[i-1]):\n",
        "    waiting_time.append(Time_service_ends[i-1] - arrival_Time[i])\n",
        "  else:\n",
        "    waiting_time.append(0)\n",
        "\n",
        "total_waiting_time = 0\n",
        "count_customer_who_wait = 0\n",
        "\n",
        "\n",
        "for i in waiting_time:\n",
        "  total_waiting_time += i\n",
        "  if(i>0):\n",
        "    ++count_customer_who_wait\n",
        "\n",
        "  \n"
      ],
      "execution_count": 8,
      "outputs": []
    },
    {
      "cell_type": "code",
      "metadata": {
        "colab": {
          "base_uri": "https://localhost:8080/"
        },
        "id": "wzuFHWoTUdJv",
        "outputId": "251e4719-139e-46b5-c20f-d658063aff99"
      },
      "source": [
        "for i in waiting_time:\n",
        "  print(i)\n",
        "\n",
        "print(\"\\ntotal waiting time= \", total_waiting_time)\n",
        "print(\"total Customer who wait = \", count_customer_who_wait)"
      ],
      "execution_count": 9,
      "outputs": [
        {
          "output_type": "stream",
          "text": [
            "0\n",
            "0\n",
            "0\n",
            "0\n",
            "0\n",
            "0\n",
            "0\n",
            "0\n",
            "0\n",
            "0\n",
            "0\n",
            "0\n",
            "0\n",
            "0\n",
            "0\n",
            "0\n",
            "0\n",
            "0\n",
            "0\n",
            "0\n",
            "\n",
            "total waiting time=  0\n",
            "total Customer who wait =  0\n"
          ],
          "name": "stdout"
        }
      ]
    },
    {
      "cell_type": "code",
      "metadata": {
        "id": "5eFftbqgiB4M"
      },
      "source": [
        "Time_customer_spends_in_System = []\n",
        "\n",
        "for i in range(0, 20):\n",
        "  Time_customer_spends_in_System.append(Service_Time[i] + waiting_time[i])\n"
      ],
      "execution_count": 10,
      "outputs": []
    },
    {
      "cell_type": "code",
      "metadata": {
        "colab": {
          "base_uri": "https://localhost:8080/"
        },
        "id": "UuSiehYaiyJk",
        "outputId": "0f7f1cb0-431a-4b3e-a982-b9d5606ae4bc"
      },
      "source": [
        "for i in Time_customer_spends_in_System:\n",
        "  print(i)"
      ],
      "execution_count": 11,
      "outputs": [
        {
          "output_type": "stream",
          "text": [
            "1.2750887018165233\n",
            "0.8583026529420208\n",
            "2.717003247081447\n",
            "1.3323032841695728\n",
            "1.3128929402248048\n",
            "1.5917187262199668\n",
            "2.0047127497507082\n",
            "1.1579859232531375\n",
            "0.705434162122975\n",
            "1.1889229537856212\n",
            "1.0038488986018121\n",
            "1.50776265449674\n",
            "1.2191921268956025\n",
            "1.450866271873804\n",
            "1.2599687304695102\n",
            "0.7499345045655547\n",
            "0.8076255558614616\n",
            "1.1352283539597332\n",
            "1.231369486879475\n",
            "0.7451784443500236\n"
          ],
          "name": "stdout"
        }
      ]
    },
    {
      "cell_type": "code",
      "metadata": {
        "id": "MDlwzyl8jd6j"
      },
      "source": [
        "idle_time_of_service = [0]\n",
        "\n",
        "for i in range(1, 20):\n",
        "  if(arrival_Time[i] > Time_service_ends[i - 1]):\n",
        "    idle_time_of_service.append(arrival_Time[i] - Time_service_ends[i - 1])\n",
        "  else:\n",
        "    idle_time_of_service.append(0)"
      ],
      "execution_count": 12,
      "outputs": []
    },
    {
      "cell_type": "code",
      "metadata": {
        "colab": {
          "base_uri": "https://localhost:8080/"
        },
        "id": "4KoCCizxkQk1",
        "outputId": "8dddd8ac-b60c-4075-e637-1b28cc333965"
      },
      "source": [
        "for i in idle_time_of_service:\n",
        "  print(i)"
      ],
      "execution_count": 13,
      "outputs": [
        {
          "output_type": "stream",
          "text": [
            "0\n",
            "10.724911298183477\n",
            "5.141697347057979\n",
            "2.282996752918553\n",
            "0.6676967158304272\n",
            "4.687107059775194\n",
            "4.408281273780034\n",
            "2.995287250249291\n",
            "4.842014076746864\n",
            "0.2945658378770233\n",
            "3.811077046214379\n",
            "1.9961511013981905\n",
            "2.4922373455032627\n",
            "5.780807873104401\n",
            "4.549133728126193\n",
            "3.7400312695304905\n",
            "10.250065495434441\n",
            "4.192374444138537\n",
            "2.8647716460402677\n",
            "9.768630513120527\n"
          ],
          "name": "stdout"
        }
      ]
    },
    {
      "cell_type": "code",
      "metadata": {
        "colab": {
          "base_uri": "https://localhost:8080/"
        },
        "id": "dJWCMaxNW3wb",
        "outputId": "50b29998-3450-4415-ef86-120c56f8c46f"
      },
      "source": [
        "print(\"Table: Single Channel Queue Problem\\n\")\n",
        "print(\"Customer\\t\", \"Interarrival Time\\t\", \"Arrival Time\\t\", \"Service Time\\t\", \"Time service begins\\t\", \"Waiting Time in Queue\\t\", \"Time service ends\\t\", \"Time Customer Spends in System\\t\", \" \\t  Idle Time of Server\")\n",
        "j = 0\n",
        "for i in range(0, 20):\n",
        "  print(\"  \",i+1 , '\\t\\t\\t' ,Interarrival_Time[i-1] if i>0 else \"-\", \"\\t\\t     \", arrival_Time[i], '\\t   ', round(Service_Time[i],2), '\\t\\t', round(Time_service_begins[i],2), '\\t\\t\\t', round(waiting_time[i],2), '\\t\\t\\t', round(Time_service_ends[i],1), '\\t\\t\\t\\t', round(Time_customer_spends_in_System[i],2), '\\t\\t\\t\\t', round(idle_time_of_service[i],2))\n",
        "\n"
      ],
      "execution_count": 30,
      "outputs": [
        {
          "output_type": "stream",
          "text": [
            "Table: Single Channel Queue Problem\n",
            "\n",
            "Customer\t Interarrival Time\t Arrival Time\t Service Time\t Time service begins\t Waiting Time in Queue\t Time service ends\t Time Customer Spends in System\t  \t  Idle Time of Server\n",
            "   1 \t\t\t - \t\t      0 \t    1.28 \t\t 0 \t\t\t 0 \t\t\t 1.3 \t\t\t\t 1.28 \t\t\t\t 0\n",
            "   2 \t\t\t 12 \t\t      12 \t    0.86 \t\t 12 \t\t\t 0 \t\t\t 12.9 \t\t\t\t 0.86 \t\t\t\t 10.72\n",
            "   3 \t\t\t 6 \t\t      18 \t    2.72 \t\t 18 \t\t\t 0 \t\t\t 20.7 \t\t\t\t 2.72 \t\t\t\t 5.14\n",
            "   4 \t\t\t 5 \t\t      23 \t    1.33 \t\t 23 \t\t\t 0 \t\t\t 24.3 \t\t\t\t 1.33 \t\t\t\t 2.28\n",
            "   5 \t\t\t 2 \t\t      25 \t    1.31 \t\t 25 \t\t\t 0 \t\t\t 26.3 \t\t\t\t 1.31 \t\t\t\t 0.67\n",
            "   6 \t\t\t 6 \t\t      31 \t    1.59 \t\t 31 \t\t\t 0 \t\t\t 32.6 \t\t\t\t 1.59 \t\t\t\t 4.69\n",
            "   7 \t\t\t 6 \t\t      37 \t    2.0 \t\t 37 \t\t\t 0 \t\t\t 39.0 \t\t\t\t 2.0 \t\t\t\t 4.41\n",
            "   8 \t\t\t 5 \t\t      42 \t    1.16 \t\t 42 \t\t\t 0 \t\t\t 43.2 \t\t\t\t 1.16 \t\t\t\t 3.0\n",
            "   9 \t\t\t 6 \t\t      48 \t    0.71 \t\t 48 \t\t\t 0 \t\t\t 48.7 \t\t\t\t 0.71 \t\t\t\t 4.84\n",
            "   10 \t\t\t 1 \t\t      49 \t    1.19 \t\t 49 \t\t\t 0 \t\t\t 50.2 \t\t\t\t 1.19 \t\t\t\t 0.29\n",
            "   11 \t\t\t 5 \t\t      54 \t    1.0 \t\t 54 \t\t\t 0 \t\t\t 55.0 \t\t\t\t 1.0 \t\t\t\t 3.81\n",
            "   12 \t\t\t 3 \t\t      57 \t    1.51 \t\t 57 \t\t\t 0 \t\t\t 58.5 \t\t\t\t 1.51 \t\t\t\t 2.0\n",
            "   13 \t\t\t 4 \t\t      61 \t    1.22 \t\t 61 \t\t\t 0 \t\t\t 62.2 \t\t\t\t 1.22 \t\t\t\t 2.49\n",
            "   14 \t\t\t 7 \t\t      68 \t    1.45 \t\t 68 \t\t\t 0 \t\t\t 69.5 \t\t\t\t 1.45 \t\t\t\t 5.78\n",
            "   15 \t\t\t 6 \t\t      74 \t    1.26 \t\t 74 \t\t\t 0 \t\t\t 75.3 \t\t\t\t 1.26 \t\t\t\t 4.55\n",
            "   16 \t\t\t 5 \t\t      79 \t    0.75 \t\t 79 \t\t\t 0 \t\t\t 79.7 \t\t\t\t 0.75 \t\t\t\t 3.74\n",
            "   17 \t\t\t 11 \t\t      90 \t    0.81 \t\t 90 \t\t\t 0 \t\t\t 90.8 \t\t\t\t 0.81 \t\t\t\t 10.25\n",
            "   18 \t\t\t 5 \t\t      95 \t    1.14 \t\t 95 \t\t\t 0 \t\t\t 96.1 \t\t\t\t 1.14 \t\t\t\t 4.19\n",
            "   19 \t\t\t 4 \t\t      99 \t    1.23 \t\t 99 \t\t\t 0 \t\t\t 100.2 \t\t\t\t 1.23 \t\t\t\t 2.86\n",
            "   20 \t\t\t 11 \t\t      110 \t    0.75 \t\t 110 \t\t\t 0 \t\t\t 110.7 \t\t\t\t 0.75 \t\t\t\t 9.77\n"
          ],
          "name": "stdout"
        }
      ]
    },
    {
      "cell_type": "code",
      "metadata": {
        "colab": {
          "base_uri": "https://localhost:8080/"
        },
        "id": "ZqQfjJOtUzBK",
        "outputId": "c8fe95f0-2ee8-4be4-fc33-875b7ee65935"
      },
      "source": [
        "average_number_of_customer_waiting = count_customer_who_wait / 20\n",
        "print(\"Average number of customer waiting = \", average_number_of_customer_waiting) \n",
        "\n",
        "average_waiting_time_for_a_customer = total_waiting_time / 20\n",
        "print(\"Average waiting time for a customer =\", average_waiting_time_for_a_customer)"
      ],
      "execution_count": 17,
      "outputs": [
        {
          "output_type": "stream",
          "text": [
            "Average number of customer waiting =  0.0\n",
            "Average waiting time for a customer = 0.0\n"
          ],
          "name": "stdout"
        }
      ]
    }
  ]
}