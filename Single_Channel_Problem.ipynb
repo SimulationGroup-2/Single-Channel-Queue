{
  "nbformat": 4,
  "nbformat_minor": 0,
  "metadata": {
    "colab": {
      "name": "Single Channel Problem.ipynb",
      "provenance": [],
      "collapsed_sections": []
    },
    "kernelspec": {
      "name": "python3",
      "display_name": "Python 3"
    },
    "language_info": {
      "name": "python"
    },
    "accelerator": "TPU"
  },
  "cells": [
    {
      "cell_type": "code",
      "metadata": {
        "colab": {
          "base_uri": "https://localhost:8080/"
        },
        "id": "wzQ4nbn8nWUT",
        "outputId": "b90ce741-8f0e-432c-c302-65524edc22b4"
      },
      "source": [
        "from scipy.stats import poisson\n",
        "Interarrival_Time = poisson.rvs(mu=5.6, size=19)\n",
        "\n",
        "print(Interarrival_Time)"
      ],
      "execution_count": 1,
      "outputs": [
        {
          "output_type": "stream",
          "text": [
            "[ 7  5 14  6  6  7  2  4  5  6  7  8  7  2  3  6  5  3  7]\n"
          ],
          "name": "stdout"
        }
      ]
    },
    {
      "cell_type": "code",
      "metadata": {
        "id": "_sb0u91JwwMQ"
      },
      "source": [
        "sum = 0\n",
        "arrival_Time = [0]\n",
        "for i in Interarrival_Time:\n",
        "  sum += i\n",
        "  arrival_Time.append(sum)"
      ],
      "execution_count": 2,
      "outputs": []
    },
    {
      "cell_type": "code",
      "metadata": {
        "id": "Jq-iYl8GtqDm"
      },
      "source": [
        "from scipy.stats import expon\n",
        "Service_Time = expon.rvs(scale = 0.5,loc = 5,size = 20)\n"
      ],
      "execution_count": 3,
      "outputs": []
    },
    {
      "cell_type": "code",
      "metadata": {
        "id": "9qtCue_Eb5LJ"
      },
      "source": [
        "import pandas as pd\n",
        "\n",
        "import numpy as np\n",
        "\n",
        "import matplotlib.pyplot as plt\n",
        "d = {'customer no': [1, 2,3,4,5,6,7,8,9,10,11,12,13,14,15,16,17,18,19,20], \n",
        "     'Interarrival Time': [0, 12, 6, 5, 2, 6, 6, 5, 6, 1, 5, 3, 4, 7, 6, 5, 11, 5, 4, 11],\n",
        "     }\n",
        "df = pd.DataFrame(data=d)"
      ],
      "execution_count": 4,
      "outputs": []
    },
    {
      "cell_type": "code",
      "metadata": {
        "id": "JEjZQz5ugADj"
      },
      "source": [
        "df[\"Arrival Time\"] = arrival_Time"
      ],
      "execution_count": 5,
      "outputs": []
    },
    {
      "cell_type": "code",
      "metadata": {
        "id": "BGjXqEgbgvK4"
      },
      "source": [
        "df[\"Service Time\"] = Service_Time"
      ],
      "execution_count": 6,
      "outputs": []
    },
    {
      "cell_type": "code",
      "metadata": {
        "id": "acloW-KdhJZf"
      },
      "source": [
        "df[\"Time Service Begin\"] = Service_Time"
      ],
      "execution_count": 7,
      "outputs": []
    },
    {
      "cell_type": "code",
      "metadata": {
        "id": "04I5OaVqTE-E"
      },
      "source": [
        "Time_service_begins = [0]\n",
        "Time_service_ends = []\n",
        "\n",
        "for x in range(0, 20):\n",
        "  if(x>0):\n",
        "    Time_service_begins.append(max(arrival_Time[x], Time_service_ends[x-1]))\n",
        "    \n",
        "  Time_service_ends.append(Service_Time[x] + Time_service_begins[x])"
      ],
      "execution_count": 8,
      "outputs": []
    },
    {
      "cell_type": "code",
      "metadata": {
        "id": "VwfP-gmNs92R"
      },
      "source": [
        "df[\"Time Service Begin\"] = Time_service_begins"
      ],
      "execution_count": 9,
      "outputs": []
    },
    {
      "cell_type": "code",
      "metadata": {
        "id": "jVDWnvNHs2a0"
      },
      "source": [
        "df[\"Waiting Time\"] = df[\"Time Service Begin\"] - df[\"Arrival Time\"]\n",
        "df[\"Time Service End\"] = Time_service_ends"
      ],
      "execution_count": 10,
      "outputs": []
    },
    {
      "cell_type": "code",
      "metadata": {
        "id": "CuppnznJus0p"
      },
      "source": [
        "df[\"The Customer Spends in the System\"]= df[\"Service Time\"] + df[\"Waiting Time\"]"
      ],
      "execution_count": 11,
      "outputs": []
    },
    {
      "cell_type": "code",
      "metadata": {
        "id": "MDlwzyl8jd6j"
      },
      "source": [
        "idle_time_of_service = [0]\n",
        "\n",
        "for i in range(1, 20):\n",
        "  if(arrival_Time[i] > Time_service_ends[i - 1]):\n",
        "    idle_time_of_service.append(arrival_Time[i] - Time_service_ends[i - 1])\n",
        "  else:\n",
        "    idle_time_of_service.append(0)"
      ],
      "execution_count": 12,
      "outputs": []
    },
    {
      "cell_type": "code",
      "metadata": {
        "id": "4KoCCizxkQk1"
      },
      "source": [
        "df[\"Idle Time of Server\"] =idle_time_of_service"
      ],
      "execution_count": 13,
      "outputs": []
    },
    {
      "cell_type": "code",
      "metadata": {
        "colab": {
          "base_uri": "https://localhost:8080/"
        },
        "id": "P5O_T0rJw5yJ",
        "outputId": "a5c9cf84-8639-4f53-cd67-430d9c7bdc26"
      },
      "source": [
        "from tabulate import tabulate \n",
        "\n",
        "\n",
        "print(tabulate(df, headers='keys', tablefmt='psql'))"
      ],
      "execution_count": 14,
      "outputs": [
        {
          "output_type": "stream",
          "text": [
            "+----+---------------+---------------------+----------------+----------------+----------------------+----------------+--------------------+-------------------------------------+-----------------------+\n",
            "|    |   customer no |   Interarrival Time |   Arrival Time |   Service Time |   Time Service Begin |   Waiting Time |   Time Service End |   The Customer Spends in the System |   Idle Time of Server |\n",
            "|----+---------------+---------------------+----------------+----------------+----------------------+----------------+--------------------+-------------------------------------+-----------------------|\n",
            "|  0 |             1 |                   0 |              0 |        5.88158 |               0      |       0        |            5.88158 |                             5.88158 |              0        |\n",
            "|  1 |             2 |                  12 |              7 |        5.68385 |               7      |       0        |           12.6838  |                             5.68385 |              1.11842  |\n",
            "|  2 |             3 |                   6 |             12 |        6.22093 |              12.6838 |       0.683846 |           18.9048  |                             6.90478 |              0        |\n",
            "|  3 |             4 |                   5 |             26 |        5.05898 |              26      |       0        |           31.059   |                             5.05898 |              7.09522  |\n",
            "|  4 |             5 |                   2 |             32 |        5.28929 |              32      |       0        |           37.2893  |                             5.28929 |              0.941022 |\n",
            "|  5 |             6 |                   6 |             38 |        5.16757 |              38      |       0        |           43.1676  |                             5.16757 |              0.710711 |\n",
            "|  6 |             7 |                   6 |             45 |        5.77065 |              45      |       0        |           50.7707  |                             5.77065 |              1.83243  |\n",
            "|  7 |             8 |                   5 |             47 |        5.08242 |              50.7707 |       3.77065  |           55.8531  |                             8.85307 |              0        |\n",
            "|  8 |             9 |                   6 |             51 |        5.06904 |              55.8531 |       4.85307  |           60.9221  |                             9.92211 |              0        |\n",
            "|  9 |            10 |                   1 |             56 |        5.47068 |              60.9221 |       4.92211  |           66.3928  |                            10.3928  |              0        |\n",
            "| 10 |            11 |                   5 |             62 |        5.11134 |              66.3928 |       4.39279  |           71.5041  |                             9.50414 |              0        |\n",
            "| 11 |            12 |                   3 |             69 |        5.86575 |              71.5041 |       2.50414  |           77.3699  |                             8.36988 |              0        |\n",
            "| 12 |            13 |                   4 |             77 |        5.23145 |              77.3699 |       0.369884 |           82.6013  |                             5.60133 |              0        |\n",
            "| 13 |            14 |                   7 |             84 |        5.72123 |              84      |       0        |           89.7212  |                             5.72123 |              1.39867  |\n",
            "| 14 |            15 |                   6 |             86 |        5.48948 |              89.7212 |       3.72123  |           95.2107  |                             9.2107  |              0        |\n",
            "| 15 |            16 |                   5 |             89 |        5.10106 |              95.2107 |       6.2107   |          100.312   |                            11.3118  |              0        |\n",
            "| 16 |            17 |                  11 |             95 |        6.28044 |             100.312  |       5.31176  |          106.592   |                            11.5922  |              0        |\n",
            "| 17 |            18 |                   5 |            100 |        5.15111 |             106.592  |       6.59219  |          111.743   |                            11.7433  |              0        |\n",
            "| 18 |            19 |                   4 |            103 |        6.92935 |             111.743  |       8.7433   |          118.673   |                            15.6726  |              0        |\n",
            "| 19 |            20 |                  11 |            110 |        6.75779 |             118.673  |       8.67265  |          125.43    |                            15.4304  |              0        |\n",
            "+----+---------------+---------------------+----------------+----------------+----------------------+----------------+--------------------+-------------------------------------+-----------------------+\n"
          ],
          "name": "stdout"
        }
      ]
    }
  ]
}